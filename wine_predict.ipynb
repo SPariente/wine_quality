{
 "cells": [
  {
   "cell_type": "markdown",
   "id": "59ebf278-ef86-454c-ad95-8a600523798f",
   "metadata": {},
   "source": [
    "# Wine quality data modelling"
   ]
  },
  {
   "cell_type": "markdown",
   "id": "9935b625-1ffd-4ee0-af13-de4eb36fb882",
   "metadata": {},
   "source": [
    "Our goal in this phase is to look for a modelling approach that might enable us to predict the reported wine quality grade within an acceptable range based on a wine's physiochemical characteristics. For our project, we will set the acceptable range at ±1.\n",
    "To this end, we will first pre-process the data set to facilitate machine-learning-based modelling, then we will train several models to look into the best fit. The models we will focus on are:\n",
    "* A baseline naive Bayes classifier model\n",
    "* A Stochastic Gradient Descent regression model\n",
    "* A Decision Tree classifier model\n",
    "* A Support Vector Machine classifier model\n",
    "* A Neural Network classifier model"
   ]
  },
  {
   "cell_type": "code",
   "execution_count": 1,
   "id": "b15db746-ba09-43cc-8d3b-1a8367321067",
   "metadata": {},
   "outputs": [],
   "source": [
    "import pandas as pd #Data frames and data wrangling\n",
    "import numpy as np #Data wrangling\n",
    "from sklearn.preprocessing import StandardScaler #Preprocessing step: standard scaling\n",
    "from sklearn.model_selection import GridSearchCV, train_test_split #Grid search and set splitting\n",
    "from sklearn import linear_model, svm, tree #Scikit-learn models to be used\n",
    "from sklearn.neural_network import MLPClassifier #Neural network classifier\n",
    "from sklearn.metrics import confusion_matrix, accuracy_score #Model scoring\n",
    "import seaborn as sns #To plot confusion matrix\n",
    "import matplotlib.pyplot as plt #Plotting"
   ]
  },
  {
   "cell_type": "code",
   "execution_count": 2,
   "id": "59d48b57-1179-4657-bee1-1ec28e806fa2",
   "metadata": {},
   "outputs": [],
   "source": [
    "#Function to assess +/- 1 accuracy condition\n",
    "def near_accuracy(Y_act, Y_hat):\n",
    "    \"\"\"\n",
    "    This function returns the share of values from the predicted outcomes\n",
    "    that match the actual outcomes +/- 1.\n",
    "    \n",
    "    Parameters\n",
    "    ----------\n",
    "    Y_act = list or array of actual outcomes\n",
    "    Y_hat = list or array of predicted outcomes\n",
    "    \n",
    "    Returns\n",
    "    -------\n",
    "    near_accuracy_val = proportion of predicted outcomes within +/- 1 of the actual outcomes\n",
    "    \"\"\"\n",
    "    Y_near = [] #Empty list\n",
    "    try: \n",
    "        for i in range(0, Y_hat.size): #Iterate through the index of Y_hat\n",
    "            Y_near.append(Y_hat[i] in range(Y_act[i]-1, Y_act[i]+2)) #Append True if value found in +/-1 range of actuals\n",
    "        near_accuracy_val = sum(Y_near)/np.size(Y_near) #Get the ratio of True values\n",
    "        return near_accuracy_val #Return this ratio as a result\n",
    "    except IndexError:\n",
    "        print(\"Both actual outcomes and predicted outcomes need to have the same size\") #To ensure both sets have the same size"
   ]
  },
  {
   "cell_type": "code",
   "execution_count": 3,
   "id": "c12d1bdd-49ce-4391-97f7-3935df18764b",
   "metadata": {},
   "outputs": [],
   "source": [
    "#Function to plot the confusion matrix as a dataframe\n",
    "def cm_table(Y_act, Y_hat, values):\n",
    "    \"\"\"\n",
    "    This function returns a dataframe of the confusion matrix, whose i-th row and \n",
    "    j-thcolumn entry indicates the number of samples with true label being i-th \n",
    "    class and predicted label being j-th class\n",
    "    \"\"\"\n",
    "    cm = confusion_matrix(Y_act, Y_hat) #Get the raw confusion matrix\n",
    "    cm_df = pd.DataFrame( #Transform it into a dataframe\n",
    "        cm, #Confusion matrix\n",
    "        columns = values, #Name the columns\n",
    "        index = values #Name the rows\n",
    "    )\n",
    "    return cm_df #Return the matrix as dataframe with named columns and rows"
   ]
  },
  {
   "cell_type": "markdown",
   "id": "cc4adaed-c981-4d5f-881c-6c5e2629c45c",
   "metadata": {},
   "source": [
    "## Data pre-processing"
   ]
  },
  {
   "cell_type": "markdown",
   "id": "233c3ca9-ae13-4c76-88bd-85b47ab9557f",
   "metadata": {},
   "source": [
    "This step involves:\n",
    "1. Importing the data set\n",
    "2. Splitting it into a set of predictors (X), and a set of outcomes (Y)\n",
    "3. Standard scaling the predictors set, to facilitate machine learning processing\n",
    "4. Splitting the data between a training set (X_train, Y_train) and a test set (X_test, Y_test), with the test set containing 20% of all observations\n",
    "5. Visually ensuring that both sets are balanced"
   ]
  },
  {
   "cell_type": "code",
   "execution_count": 4,
   "id": "5233d172-d72c-402d-b828-9ece00466337",
   "metadata": {},
   "outputs": [],
   "source": [
    "wine_data = pd.read_csv(\"https://raw.githubusercontent.com/SPariente/wine_quality/master/winequality-red.csv\") #Import data set"
   ]
  },
  {
   "cell_type": "code",
   "execution_count": 5,
   "id": "5306bd34-b2e4-4789-a2f8-7c6aeafdba0c",
   "metadata": {},
   "outputs": [],
   "source": [
    "X = wine_data.drop('quality', axis = 1) #Assign the predictors to X\n",
    "Y = wine_data['quality'].to_numpy() #Assign the outcomes to Y as a numpy array"
   ]
  },
  {
   "cell_type": "code",
   "execution_count": 6,
   "id": "ad573d35-e4f4-42fa-94ca-5bc872f31f74",
   "metadata": {},
   "outputs": [],
   "source": [
    "X = StandardScaler().fit(X).transform(X) #Standard scaling of the variables in X"
   ]
  },
  {
   "cell_type": "code",
   "execution_count": 7,
   "id": "b84a81a4-fc4d-4cb1-88d5-d0ef8a72eeab",
   "metadata": {},
   "outputs": [],
   "source": [
    "#Split the sets into training and test sets\n",
    "X_train, X_test, Y_train, Y_test = train_test_split( \n",
    "    X,\n",
    "    Y,\n",
    "    test_size = 0.2, #20% kept for testing\n",
    "    random_state = 0 #Set random state for replicability\n",
    ")"
   ]
  },
  {
   "cell_type": "code",
   "execution_count": 8,
   "id": "6abae841-9dcf-4479-ac68-2d8fe8980563",
   "metadata": {},
   "outputs": [
    {
     "name": "stdout",
     "output_type": "stream",
     "text": [
      "The training set and the test set both contain at least one occurence of all possible outcomes.\n"
     ]
    }
   ],
   "source": [
    "#Check if both sets contain at least 1 occurence of all outcomes\n",
    "if all(np.sort(pd.unique(Y_train)) == np.sort(pd.unique(Y_test))):\n",
    "    print(\"The training set and the test set both contain at least one occurence of all possible outcomes.\")\n",
    "else:\n",
    "    print(\"Either the training set or the test set are missing a possible outcome.\")"
   ]
  },
  {
   "cell_type": "code",
   "execution_count": 9,
   "id": "912258d3-314f-4a4e-b8f2-515aee82af92",
   "metadata": {},
   "outputs": [
    {
     "name": "stdout",
     "output_type": "stream",
     "text": [
      "Test set:\n",
      "[0.2        0.20754717 0.19823789 0.22257053 0.13567839 0.16666667]\n",
      "Training set:\n",
      "[0.8        0.79245283 0.80176211 0.77742947 0.86432161 0.83333333]\n"
     ]
    }
   ],
   "source": [
    "#Visualize the distribution across both sets of outcomes, to ensure none are over represented\n",
    "print(\"Test set:\")\n",
    "print(np.bincount(Y_test)[3:9] / np.bincount(wine_data['quality'])[3:9]) #np.bincount used as the outcomes are consecutive integers\n",
    "print(\"Training set:\")\n",
    "print(np.bincount(Y_train)[3:9] / np.bincount(wine_data['quality'])[3:9])"
   ]
  },
  {
   "cell_type": "markdown",
   "id": "64d08c54-f26a-45fb-8579-926c536a6536",
   "metadata": {},
   "source": [
    "## Data modelling"
   ]
  },
  {
   "cell_type": "markdown",
   "id": "6e0efd08-42f6-4923-a24c-c8cee3c8f618",
   "metadata": {},
   "source": [
    "As mentioned earlier, several models will be explored in an effort to find the best one among them."
   ]
  },
  {
   "cell_type": "markdown",
   "id": "116fe05c-ff2a-4b99-8af1-08c301565d3e",
   "metadata": {},
   "source": [
    "### Baseline"
   ]
  },
  {
   "cell_type": "markdown",
   "id": "c6666adf-bcac-4051-ba61-77f1bc429db0",
   "metadata": {},
   "source": [
    "As a baseline, we will use a naive Bayes approach, where each prediction will be a random integer between 3 and 8 (the values in our data set), assigned with a probability based on the observed frequency in our data set for each outcome."
   ]
  },
  {
   "cell_type": "code",
   "execution_count": 10,
   "id": "6ed34be7-2f32-4340-b928-c389edfb0c85",
   "metadata": {},
   "outputs": [
    {
     "name": "stdout",
     "output_type": "stream",
     "text": [
      "[0.00625391 0.03314572 0.42589118 0.39899937 0.12445278 0.01125704]\n"
     ]
    }
   ],
   "source": [
    "#Get the observed probability by outcome\n",
    "qual_odds = np.bincount(wine_data['quality'])[3:9] / wine_data.shape[0] #Probability = count of each outcome divided by the total number of observations\n",
    "print(qual_odds)"
   ]
  },
  {
   "cell_type": "code",
   "execution_count": 11,
   "id": "4b14e41f-3ed3-48f3-95bf-3bb6a04d54bd",
   "metadata": {},
   "outputs": [],
   "source": [
    "np.random.seed(5) #Set seed for replicability\n",
    "Y_nbayes = np.random.choice( #Random sampling in a given list\n",
    "    a = [i for i in range(3,9)], #List = integers between 3 and 8\n",
    "    size = Y_test.size, #Number of samples to make\n",
    "    replace = True, #With replacement\n",
    "    p = qual_odds #Probability for each outcome = observed probability\n",
    ")"
   ]
  },
  {
   "cell_type": "code",
   "execution_count": 12,
   "id": "ad518192-6287-4443-a31d-dce66aa8693d",
   "metadata": {},
   "outputs": [],
   "source": [
    "acc_table = dict() #Initialise empty dictionary to use as comparison table later on"
   ]
  },
  {
   "cell_type": "code",
   "execution_count": 13,
   "id": "f6317472-7bfb-4db9-98e6-822667e74ab4",
   "metadata": {},
   "outputs": [],
   "source": [
    "acc = accuracy_score(Y_test, Y_nbayes) #Get the accuracy score\n",
    "n_acc = near_accuracy(Y_test, Y_nbayes) #Get the +/-1 accuracy score\n",
    "acc_table.update( #Add values to the comparison table\n",
    "    dict(\n",
    "        Baseline = [acc, n_acc]\n",
    "    )\n",
    ")"
   ]
  },
  {
   "cell_type": "code",
   "execution_count": 14,
   "id": "dfa86598-1a1a-47be-a6a1-c7fd56107bf4",
   "metadata": {},
   "outputs": [
    {
     "name": "stdout",
     "output_type": "stream",
     "text": [
      "The resulting accuracy on the test set is: 0.36875\n",
      "The resulting accuracy within ± 1 on the test set is: 0.86875\n"
     ]
    }
   ],
   "source": [
    "print(\"The resulting accuracy on the test set is: \"+str(acc))\n",
    "print(\"The resulting accuracy within ± 1 on the test set is: \"+str(n_acc))"
   ]
  },
  {
   "cell_type": "code",
   "execution_count": 15,
   "id": "93e286d5-132a-47a9-80cf-b87fa323dad1",
   "metadata": {},
   "outputs": [
    {
     "data": {
      "text/html": [
       "<div>\n",
       "<style scoped>\n",
       "    .dataframe tbody tr th:only-of-type {\n",
       "        vertical-align: middle;\n",
       "    }\n",
       "\n",
       "    .dataframe tbody tr th {\n",
       "        vertical-align: top;\n",
       "    }\n",
       "\n",
       "    .dataframe thead th {\n",
       "        text-align: right;\n",
       "    }\n",
       "</style>\n",
       "<table border=\"1\" class=\"dataframe\">\n",
       "  <thead>\n",
       "    <tr style=\"text-align: right;\">\n",
       "      <th></th>\n",
       "      <th>3</th>\n",
       "      <th>4</th>\n",
       "      <th>5</th>\n",
       "      <th>6</th>\n",
       "      <th>7</th>\n",
       "      <th>8</th>\n",
       "    </tr>\n",
       "  </thead>\n",
       "  <tbody>\n",
       "    <tr>\n",
       "      <th>3</th>\n",
       "      <td>0</td>\n",
       "      <td>1</td>\n",
       "      <td>1</td>\n",
       "      <td>0</td>\n",
       "      <td>0</td>\n",
       "      <td>0</td>\n",
       "    </tr>\n",
       "    <tr>\n",
       "      <th>4</th>\n",
       "      <td>0</td>\n",
       "      <td>0</td>\n",
       "      <td>7</td>\n",
       "      <td>4</td>\n",
       "      <td>0</td>\n",
       "      <td>0</td>\n",
       "    </tr>\n",
       "    <tr>\n",
       "      <th>5</th>\n",
       "      <td>3</td>\n",
       "      <td>6</td>\n",
       "      <td>57</td>\n",
       "      <td>53</td>\n",
       "      <td>14</td>\n",
       "      <td>2</td>\n",
       "    </tr>\n",
       "    <tr>\n",
       "      <th>6</th>\n",
       "      <td>0</td>\n",
       "      <td>6</td>\n",
       "      <td>61</td>\n",
       "      <td>56</td>\n",
       "      <td>18</td>\n",
       "      <td>1</td>\n",
       "    </tr>\n",
       "    <tr>\n",
       "      <th>7</th>\n",
       "      <td>0</td>\n",
       "      <td>1</td>\n",
       "      <td>8</td>\n",
       "      <td>12</td>\n",
       "      <td>5</td>\n",
       "      <td>1</td>\n",
       "    </tr>\n",
       "    <tr>\n",
       "      <th>8</th>\n",
       "      <td>0</td>\n",
       "      <td>0</td>\n",
       "      <td>2</td>\n",
       "      <td>0</td>\n",
       "      <td>1</td>\n",
       "      <td>0</td>\n",
       "    </tr>\n",
       "  </tbody>\n",
       "</table>\n",
       "</div>"
      ],
      "text/plain": [
       "   3  4   5   6   7  8\n",
       "3  0  1   1   0   0  0\n",
       "4  0  0   7   4   0  0\n",
       "5  3  6  57  53  14  2\n",
       "6  0  6  61  56  18  1\n",
       "7  0  1   8  12   5  1\n",
       "8  0  0   2   0   1  0"
      ]
     },
     "execution_count": 15,
     "metadata": {},
     "output_type": "execute_result"
    }
   ],
   "source": [
    "cm_nbayes = cm_table(Y_test, Y_nbayes, [i for i in range(3,9)]) #Plot the confusion matrix\n",
    "cm_nbayes"
   ]
  },
  {
   "cell_type": "markdown",
   "id": "a100f502-f553-4618-a774-21e6466fa90b",
   "metadata": {},
   "source": [
    "### Stochastic Gradient Descent (SGD)"
   ]
  },
  {
   "cell_type": "markdown",
   "id": "fc5ac1a0-1d0c-4afd-9dc3-3aa490832408",
   "metadata": {},
   "source": [
    "Next, we will look at a regression model in the form of a SGD. To fit this model, a grid search will be performed across several parameters, using the training set.\n",
    "To assess the accuracy of this model, the resulting predictions based on the test set will first be rounded to the nearest integer between 3 and 8."
   ]
  },
  {
   "cell_type": "code",
   "execution_count": 16,
   "id": "ec222538-bd5f-4d53-9c48-f965b3f1b570",
   "metadata": {},
   "outputs": [
    {
     "data": {
      "text/plain": [
       "GridSearchCV(cv=8, estimator=SGDRegressor(random_state=5), n_jobs=10,\n",
       "             param_grid={'alpha': [0.001, 0.01, 0.1],\n",
       "                         'loss': ['squared_loss', 'huber'],\n",
       "                         'penalty': ['l2', 'l1', 'elasticnet']},\n",
       "             scoring='neg_mean_squared_error')"
      ]
     },
     "execution_count": 16,
     "metadata": {},
     "output_type": "execute_result"
    }
   ],
   "source": [
    "#Model fitting\n",
    "sgd = linear_model.SGDRegressor(random_state = 5) #Initialise the regression model\n",
    "\n",
    "params = dict( #define parameters for the grid search\n",
    "    loss = ['squared_loss', 'huber'], #Loss function\n",
    "    penalty = ['l2', 'l1', 'elasticnet'], #Penalty to be used\n",
    "    alpha = [0.001, 0.01, 0.1] #Alpha regularization term multiplicator\n",
    ")\n",
    "\n",
    "sgd_model = GridSearchCV( #Initialise the grid serch\n",
    "    sgd, #Model\n",
    "    params, #Parameters to search through\n",
    "    cv = np.bincount(Y_train)[3:9].min(), #cross-validation = minimum population of outcomes\n",
    "    n_jobs = 10, #10 parallel jobs\n",
    "    scoring = \"neg_mean_squared_error\" #mean squared error used for scoring the grid search\n",
    ")\n",
    "sgd_model.fit( #Fit the model with the grid search\n",
    "    X_train, #Training set\n",
    "    Y_train #Training set\n",
    ")"
   ]
  },
  {
   "cell_type": "code",
   "execution_count": 17,
   "id": "24bfa8b4-6c0c-4cd8-8381-3a8eb1ec7f97",
   "metadata": {},
   "outputs": [
    {
     "name": "stdout",
     "output_type": "stream",
     "text": [
      "The best parameters found are:\n"
     ]
    },
    {
     "data": {
      "text/plain": [
       "{'alpha': 0.1, 'loss': 'squared_loss', 'penalty': 'l2'}"
      ]
     },
     "execution_count": 17,
     "metadata": {},
     "output_type": "execute_result"
    }
   ],
   "source": [
    "print(\"The best parameters found are:\")\n",
    "sgd_model.best_params_"
   ]
  },
  {
   "cell_type": "code",
   "execution_count": 18,
   "id": "c6da0ef3-138b-4823-8ecf-0d13afe717c8",
   "metadata": {},
   "outputs": [],
   "source": [
    "#Prediction on test set\n",
    "Y_sgd = sgd_model.predict(X_test).round() #Predict and round to nearest integer\n",
    "Y_sgd[Y_sgd <= 2] = 3 #Set results below 3 to 3 (minimum in our data set)\n",
    "Y_sgd[Y_sgd >= 9] = 8 #Set results above 8 to 8 (maximum in our data set)"
   ]
  },
  {
   "cell_type": "code",
   "execution_count": 19,
   "id": "6e8e1812-1d94-402c-b13a-2d53b6e731a3",
   "metadata": {},
   "outputs": [],
   "source": [
    "acc = accuracy_score(Y_test, Y_sgd) #Get the accuracy score\n",
    "n_acc = near_accuracy(Y_test, Y_sgd) #Get the +/-1 accuracy score\n",
    "acc_table.update( #Add values to the comparison table\n",
    "    dict(\n",
    "        SGD = [acc, n_acc]\n",
    "    )\n",
    ")"
   ]
  },
  {
   "cell_type": "code",
   "execution_count": 20,
   "id": "0f9358be-49de-41e0-b8f4-676979a8f40a",
   "metadata": {},
   "outputs": [
    {
     "data": {
      "text/html": [
       "<div>\n",
       "<style scoped>\n",
       "    .dataframe tbody tr th:only-of-type {\n",
       "        vertical-align: middle;\n",
       "    }\n",
       "\n",
       "    .dataframe tbody tr th {\n",
       "        vertical-align: top;\n",
       "    }\n",
       "\n",
       "    .dataframe thead th {\n",
       "        text-align: right;\n",
       "    }\n",
       "</style>\n",
       "<table border=\"1\" class=\"dataframe\">\n",
       "  <thead>\n",
       "    <tr style=\"text-align: right;\">\n",
       "      <th></th>\n",
       "      <th>3</th>\n",
       "      <th>4</th>\n",
       "      <th>5</th>\n",
       "      <th>6</th>\n",
       "      <th>7</th>\n",
       "      <th>8</th>\n",
       "    </tr>\n",
       "  </thead>\n",
       "  <tbody>\n",
       "    <tr>\n",
       "      <th>3</th>\n",
       "      <td>0</td>\n",
       "      <td>0</td>\n",
       "      <td>2</td>\n",
       "      <td>0</td>\n",
       "      <td>0</td>\n",
       "      <td>0</td>\n",
       "    </tr>\n",
       "    <tr>\n",
       "      <th>4</th>\n",
       "      <td>0</td>\n",
       "      <td>0</td>\n",
       "      <td>6</td>\n",
       "      <td>5</td>\n",
       "      <td>0</td>\n",
       "      <td>0</td>\n",
       "    </tr>\n",
       "    <tr>\n",
       "      <th>5</th>\n",
       "      <td>0</td>\n",
       "      <td>0</td>\n",
       "      <td>98</td>\n",
       "      <td>37</td>\n",
       "      <td>0</td>\n",
       "      <td>0</td>\n",
       "    </tr>\n",
       "    <tr>\n",
       "      <th>6</th>\n",
       "      <td>0</td>\n",
       "      <td>0</td>\n",
       "      <td>40</td>\n",
       "      <td>96</td>\n",
       "      <td>6</td>\n",
       "      <td>0</td>\n",
       "    </tr>\n",
       "    <tr>\n",
       "      <th>7</th>\n",
       "      <td>0</td>\n",
       "      <td>0</td>\n",
       "      <td>1</td>\n",
       "      <td>19</td>\n",
       "      <td>7</td>\n",
       "      <td>0</td>\n",
       "    </tr>\n",
       "    <tr>\n",
       "      <th>8</th>\n",
       "      <td>0</td>\n",
       "      <td>0</td>\n",
       "      <td>0</td>\n",
       "      <td>1</td>\n",
       "      <td>2</td>\n",
       "      <td>0</td>\n",
       "    </tr>\n",
       "  </tbody>\n",
       "</table>\n",
       "</div>"
      ],
      "text/plain": [
       "   3  4   5   6  7  8\n",
       "3  0  0   2   0  0  0\n",
       "4  0  0   6   5  0  0\n",
       "5  0  0  98  37  0  0\n",
       "6  0  0  40  96  6  0\n",
       "7  0  0   1  19  7  0\n",
       "8  0  0   0   1  2  0"
      ]
     },
     "execution_count": 20,
     "metadata": {},
     "output_type": "execute_result"
    }
   ],
   "source": [
    "cm_sgd = cm_table(Y_test, Y_sgd, [i for i in range(3,9)])\n",
    "cm_sgd"
   ]
  },
  {
   "cell_type": "markdown",
   "id": "5fef7032-95ca-486b-8e1a-c3bbd50f3aa6",
   "metadata": {},
   "source": [
    "### Decision tree"
   ]
  },
  {
   "cell_type": "markdown",
   "id": "6ded42d4-2bc0-4684-acd7-a40132ec612d",
   "metadata": {},
   "source": [
    "Next, we will look into fitting a decision tree classifier to our data set. Again, a grid search will first be performed across several parameters to find the best fit using the training set."
   ]
  },
  {
   "cell_type": "code",
   "execution_count": 21,
   "id": "03dd69e9-8d10-496b-9bf0-fc98fee8485a",
   "metadata": {},
   "outputs": [
    {
     "data": {
      "text/plain": [
       "GridSearchCV(cv=8, estimator=DecisionTreeClassifier(random_state=5), n_jobs=10,\n",
       "             param_grid={'criterion': ['gini', 'entropy'],\n",
       "                         'max_features': ['auto', None],\n",
       "                         'splitter': ['best', 'random']},\n",
       "             scoring='balanced_accuracy')"
      ]
     },
     "execution_count": 21,
     "metadata": {},
     "output_type": "execute_result"
    }
   ],
   "source": [
    "#Model fitting\n",
    "tree_class = tree.DecisionTreeClassifier(random_state = 5) #Initialise the decision tree classifier\n",
    "params = dict(\n",
    "    criterion = ['gini', 'entropy'], #Quality measure of a split\n",
    "    splitter = [\"best\", \"random\"], #Strategy used to split each node\n",
    "    max_features = [\"auto\", None] #Maximum number of features to look for\n",
    ")\n",
    "tree_model = GridSearchCV( #Initialise the grid search\n",
    "    tree_class, #Model\n",
    "    params, #Parameters\n",
    "    cv = np.bincount(Y_train)[3:9].min(), #cross-validation = minimum population of outcomes\n",
    "    n_jobs = 10, #10 parallel jobs\n",
    "    scoring = 'balanced_accuracy' #balanced accuracy used for scoring, as the sets are imbalanced, with many more observations in the mid-range than in the extremes\n",
    ")\n",
    "\n",
    "tree_model.fit( #Fit the model with the grid search\n",
    "    X_train,\n",
    "    Y_train\n",
    ")"
   ]
  },
  {
   "cell_type": "code",
   "execution_count": 22,
   "id": "3379a23b-8d26-4841-b206-71c2e24d70fc",
   "metadata": {},
   "outputs": [
    {
     "name": "stdout",
     "output_type": "stream",
     "text": [
      "The best parameters found are:\n"
     ]
    },
    {
     "data": {
      "text/plain": [
       "{'criterion': 'entropy', 'max_features': 'auto', 'splitter': 'best'}"
      ]
     },
     "execution_count": 22,
     "metadata": {},
     "output_type": "execute_result"
    }
   ],
   "source": [
    "print(\"The best parameters found are:\")\n",
    "tree_model.best_params_"
   ]
  },
  {
   "cell_type": "code",
   "execution_count": 23,
   "id": "df8dd6de-eada-4985-9276-ebb92461f83d",
   "metadata": {},
   "outputs": [],
   "source": [
    "#Prediction on test set\n",
    "Y_tree = tree_model.predict(X_test)\n",
    "acc = accuracy_score(Y_test, Y_tree) #Get the accuracy score\n",
    "n_acc = near_accuracy(Y_test, Y_tree) #Get the +/-1 accuracy score\n",
    "acc_table.update( #Add values to the comparison table\n",
    "    dict(\n",
    "        Tree = [acc, n_acc]\n",
    "    )\n",
    ")"
   ]
  },
  {
   "cell_type": "code",
   "execution_count": 24,
   "id": "48f389c1-bda4-4f3d-84e9-59837649d406",
   "metadata": {},
   "outputs": [
    {
     "data": {
      "text/html": [
       "<div>\n",
       "<style scoped>\n",
       "    .dataframe tbody tr th:only-of-type {\n",
       "        vertical-align: middle;\n",
       "    }\n",
       "\n",
       "    .dataframe tbody tr th {\n",
       "        vertical-align: top;\n",
       "    }\n",
       "\n",
       "    .dataframe thead th {\n",
       "        text-align: right;\n",
       "    }\n",
       "</style>\n",
       "<table border=\"1\" class=\"dataframe\">\n",
       "  <thead>\n",
       "    <tr style=\"text-align: right;\">\n",
       "      <th></th>\n",
       "      <th>3</th>\n",
       "      <th>4</th>\n",
       "      <th>5</th>\n",
       "      <th>6</th>\n",
       "      <th>7</th>\n",
       "      <th>8</th>\n",
       "    </tr>\n",
       "  </thead>\n",
       "  <tbody>\n",
       "    <tr>\n",
       "      <th>3</th>\n",
       "      <td>0</td>\n",
       "      <td>0</td>\n",
       "      <td>1</td>\n",
       "      <td>1</td>\n",
       "      <td>0</td>\n",
       "      <td>0</td>\n",
       "    </tr>\n",
       "    <tr>\n",
       "      <th>4</th>\n",
       "      <td>0</td>\n",
       "      <td>0</td>\n",
       "      <td>8</td>\n",
       "      <td>2</td>\n",
       "      <td>1</td>\n",
       "      <td>0</td>\n",
       "    </tr>\n",
       "    <tr>\n",
       "      <th>5</th>\n",
       "      <td>0</td>\n",
       "      <td>4</td>\n",
       "      <td>89</td>\n",
       "      <td>36</td>\n",
       "      <td>6</td>\n",
       "      <td>0</td>\n",
       "    </tr>\n",
       "    <tr>\n",
       "      <th>6</th>\n",
       "      <td>0</td>\n",
       "      <td>0</td>\n",
       "      <td>28</td>\n",
       "      <td>97</td>\n",
       "      <td>17</td>\n",
       "      <td>0</td>\n",
       "    </tr>\n",
       "    <tr>\n",
       "      <th>7</th>\n",
       "      <td>0</td>\n",
       "      <td>0</td>\n",
       "      <td>4</td>\n",
       "      <td>6</td>\n",
       "      <td>13</td>\n",
       "      <td>4</td>\n",
       "    </tr>\n",
       "    <tr>\n",
       "      <th>8</th>\n",
       "      <td>0</td>\n",
       "      <td>0</td>\n",
       "      <td>0</td>\n",
       "      <td>2</td>\n",
       "      <td>1</td>\n",
       "      <td>0</td>\n",
       "    </tr>\n",
       "  </tbody>\n",
       "</table>\n",
       "</div>"
      ],
      "text/plain": [
       "   3  4   5   6   7  8\n",
       "3  0  0   1   1   0  0\n",
       "4  0  0   8   2   1  0\n",
       "5  0  4  89  36   6  0\n",
       "6  0  0  28  97  17  0\n",
       "7  0  0   4   6  13  4\n",
       "8  0  0   0   2   1  0"
      ]
     },
     "execution_count": 24,
     "metadata": {},
     "output_type": "execute_result"
    }
   ],
   "source": [
    "cm_tree = cm_table(Y_test, Y_tree, [i for i in range(3,9)])\n",
    "cm_tree"
   ]
  },
  {
   "cell_type": "markdown",
   "id": "55e508b1-c71d-481f-b0b4-a83f7a31482b",
   "metadata": {},
   "source": [
    "### Support vector machine (SVM)"
   ]
  },
  {
   "cell_type": "markdown",
   "id": "e0049398-0ca5-4086-8693-c2ca92587756",
   "metadata": {},
   "source": [
    "The next model we will look into is a SVM classifier. Again, a grid search will first be performed across several parameters to find the best fit using the training set."
   ]
  },
  {
   "cell_type": "code",
   "execution_count": 25,
   "id": "83c85201-da26-46b0-bdbb-ef720418988a",
   "metadata": {},
   "outputs": [
    {
     "data": {
      "text/plain": [
       "GridSearchCV(cv=8, estimator=SVC(random_state=5), n_jobs=10,\n",
       "             param_grid={'C': [1, 0.5, 0.25], 'break_ties': [True, False],\n",
       "                         'degree': [1, 2, 3, 4],\n",
       "                         'kernel': ['linear', 'poly', 'rbf', 'sigmoid']},\n",
       "             scoring='balanced_accuracy')"
      ]
     },
     "execution_count": 25,
     "metadata": {},
     "output_type": "execute_result"
    }
   ],
   "source": [
    "#Model fitting\n",
    "svm_class = svm.SVC(random_state = 5) #Initialise the SVM\n",
    "\n",
    "params = dict(\n",
    "    C = [1, 0.5, 0.25], #Regularization parameter\n",
    "    kernel= ['linear', 'poly', 'rbf', 'sigmoid'], #Kernel to bne used\n",
    "    degree = [i for i in range(1,5)], #Polynomial kernel degree to be used\n",
    "    break_ties = [True, False] #Whether to break ties according to confidence value of decision function\n",
    ")\n",
    "\n",
    "svm_model = GridSearchCV( #Initialise the grid search\n",
    "    svm_class, #Model\n",
    "    params, #Parameters\n",
    "    cv = np.bincount(Y_train)[3:9].min(), #cross-validation = minimum population of outcomes\n",
    "    n_jobs = 10, #10 parallel jobs\n",
    "    scoring = 'balanced_accuracy' #balanced accuracy used for scoring, as the sets are imbalanced, with many more observations in the mid-range than in the extremes\n",
    ")\n",
    "\n",
    "svm_model.fit( #Fit the model with the grid search\n",
    "    X_train, \n",
    "    Y_train\n",
    ")"
   ]
  },
  {
   "cell_type": "code",
   "execution_count": 26,
   "id": "7aa880d9-6fa3-48e3-aa32-d2e7de1c6c61",
   "metadata": {},
   "outputs": [
    {
     "name": "stdout",
     "output_type": "stream",
     "text": [
      "The best parameters found are:\n"
     ]
    },
    {
     "data": {
      "text/plain": [
       "{'C': 1, 'break_ties': False, 'degree': 3, 'kernel': 'poly'}"
      ]
     },
     "execution_count": 26,
     "metadata": {},
     "output_type": "execute_result"
    }
   ],
   "source": [
    "print(\"The best parameters found are:\")\n",
    "svm_model.best_params_"
   ]
  },
  {
   "cell_type": "code",
   "execution_count": 27,
   "id": "a82708bf-fe48-40c4-8be6-8e4767f6678e",
   "metadata": {},
   "outputs": [],
   "source": [
    "#Prediction on test set\n",
    "Y_svm = svm_model.predict(X_test)\n",
    "acc = accuracy_score(Y_test, Y_svm) #Get the accuracy score\n",
    "n_acc = near_accuracy(Y_test, Y_svm) #Get the +/-1 accuracy score\n",
    "acc_table.update( #Add values to the comparison table\n",
    "    dict(\n",
    "        SVM = [acc, n_acc]\n",
    "    )\n",
    ")"
   ]
  },
  {
   "cell_type": "code",
   "execution_count": 28,
   "id": "ac562743-d54f-46cd-8b77-5b6b97d13bac",
   "metadata": {},
   "outputs": [
    {
     "data": {
      "text/html": [
       "<div>\n",
       "<style scoped>\n",
       "    .dataframe tbody tr th:only-of-type {\n",
       "        vertical-align: middle;\n",
       "    }\n",
       "\n",
       "    .dataframe tbody tr th {\n",
       "        vertical-align: top;\n",
       "    }\n",
       "\n",
       "    .dataframe thead th {\n",
       "        text-align: right;\n",
       "    }\n",
       "</style>\n",
       "<table border=\"1\" class=\"dataframe\">\n",
       "  <thead>\n",
       "    <tr style=\"text-align: right;\">\n",
       "      <th></th>\n",
       "      <th>3</th>\n",
       "      <th>4</th>\n",
       "      <th>5</th>\n",
       "      <th>6</th>\n",
       "      <th>7</th>\n",
       "      <th>8</th>\n",
       "    </tr>\n",
       "  </thead>\n",
       "  <tbody>\n",
       "    <tr>\n",
       "      <th>3</th>\n",
       "      <td>0</td>\n",
       "      <td>0</td>\n",
       "      <td>1</td>\n",
       "      <td>1</td>\n",
       "      <td>0</td>\n",
       "      <td>0</td>\n",
       "    </tr>\n",
       "    <tr>\n",
       "      <th>4</th>\n",
       "      <td>0</td>\n",
       "      <td>0</td>\n",
       "      <td>8</td>\n",
       "      <td>2</td>\n",
       "      <td>1</td>\n",
       "      <td>0</td>\n",
       "    </tr>\n",
       "    <tr>\n",
       "      <th>5</th>\n",
       "      <td>1</td>\n",
       "      <td>1</td>\n",
       "      <td>109</td>\n",
       "      <td>20</td>\n",
       "      <td>4</td>\n",
       "      <td>0</td>\n",
       "    </tr>\n",
       "    <tr>\n",
       "      <th>6</th>\n",
       "      <td>0</td>\n",
       "      <td>1</td>\n",
       "      <td>45</td>\n",
       "      <td>90</td>\n",
       "      <td>5</td>\n",
       "      <td>1</td>\n",
       "    </tr>\n",
       "    <tr>\n",
       "      <th>7</th>\n",
       "      <td>0</td>\n",
       "      <td>0</td>\n",
       "      <td>1</td>\n",
       "      <td>16</td>\n",
       "      <td>10</td>\n",
       "      <td>0</td>\n",
       "    </tr>\n",
       "    <tr>\n",
       "      <th>8</th>\n",
       "      <td>0</td>\n",
       "      <td>0</td>\n",
       "      <td>0</td>\n",
       "      <td>0</td>\n",
       "      <td>3</td>\n",
       "      <td>0</td>\n",
       "    </tr>\n",
       "  </tbody>\n",
       "</table>\n",
       "</div>"
      ],
      "text/plain": [
       "   3  4    5   6   7  8\n",
       "3  0  0    1   1   0  0\n",
       "4  0  0    8   2   1  0\n",
       "5  1  1  109  20   4  0\n",
       "6  0  1   45  90   5  1\n",
       "7  0  0    1  16  10  0\n",
       "8  0  0    0   0   3  0"
      ]
     },
     "execution_count": 28,
     "metadata": {},
     "output_type": "execute_result"
    }
   ],
   "source": [
    "cm_svm = cm_table(Y_test, Y_svm, [i for i in range(3,9)])\n",
    "cm_svm"
   ]
  },
  {
   "cell_type": "markdown",
   "id": "2e33c33a-7d5c-47fc-b811-e5c21454cca1",
   "metadata": {},
   "source": [
    "### Neural network"
   ]
  },
  {
   "cell_type": "markdown",
   "id": "3d5ee757-75a9-483c-9372-34cd052554c1",
   "metadata": {},
   "source": [
    "Our last model will be a neural network, in the form of a multi-layer perceptron classifier. Once again, a grid search will first be performed across several parameters to find the best fit using the training set."
   ]
  },
  {
   "cell_type": "code",
   "execution_count": 29,
   "id": "b1571dd6-e515-4c63-8b94-17a13ed1658a",
   "metadata": {},
   "outputs": [
    {
     "data": {
      "text/plain": [
       "GridSearchCV(cv=8, estimator=MLPClassifier(early_stopping=True, random_state=5),\n",
       "             n_jobs=10,\n",
       "             param_grid={'activation': ['identity', 'logistic', 'tanh', 'relu'],\n",
       "                         'hidden_layer_sizes': [(11,), (11, 11), (6, 6)],\n",
       "                         'solver': ['adam', 'lbfgs']},\n",
       "             scoring='balanced_accuracy')"
      ]
     },
     "execution_count": 29,
     "metadata": {},
     "output_type": "execute_result"
    }
   ],
   "source": [
    "#Model fitting\n",
    "nn = MLPClassifier( #Initialise neural network model\n",
    "    random_state = 5,\n",
    "    early_stopping = True #Allow early stopping if there is no information gain\n",
    ")\n",
    "\n",
    "layer_size = X_train.shape[1] #Set the max size of the neuron layer to the number of predictors\n",
    "\n",
    "params = dict( #Parameters\n",
    "    solver = ['adam', 'lbfgs'], #Solver for weight optimisation\n",
    "    activation = ['identity', 'logistic', 'tanh', 'relu'], #Activation function shape\n",
    "    hidden_layer_sizes = [(layer_size,), (layer_size, layer_size, ), (round(layer_size/2), round(layer_size/2),)] #Size of the hidden layers\n",
    ")\n",
    "\n",
    "nn_model = GridSearchCV( #Initialize the grid search\n",
    "    nn, #Model\n",
    "    params, #Parameters\n",
    "    cv = np.bincount(Y_train)[3:9].min(), #cross-validation = minimum population of outcomes\n",
    "    n_jobs = 10, #10 parallel jobs\n",
    "    scoring = 'balanced_accuracy' #balanced accuracy used for scoring, as the sets are imbalanced, with many more observations in the mid-range than in the extremes\n",
    ")\n",
    "\n",
    "nn_model.fit( #Fit the model with the grid search\n",
    "    X_train, \n",
    "    Y_train\n",
    ")"
   ]
  },
  {
   "cell_type": "code",
   "execution_count": 30,
   "id": "bf3aa370-4e4c-43f7-8df0-13b46221dacb",
   "metadata": {},
   "outputs": [
    {
     "name": "stdout",
     "output_type": "stream",
     "text": [
      "The best parameters found are:\n"
     ]
    },
    {
     "data": {
      "text/plain": [
       "{'activation': 'identity', 'hidden_layer_sizes': (11,), 'solver': 'lbfgs'}"
      ]
     },
     "execution_count": 30,
     "metadata": {},
     "output_type": "execute_result"
    }
   ],
   "source": [
    "print(\"The best parameters found are:\")\n",
    "nn_model.best_params_"
   ]
  },
  {
   "cell_type": "code",
   "execution_count": 31,
   "id": "f3934230-1112-496b-8d9c-54c38c25f297",
   "metadata": {},
   "outputs": [],
   "source": [
    "#Prediction on test set\n",
    "Y_nn = nn_model.predict(X_test)\n",
    "acc = accuracy_score(Y_test, Y_nn) #Get the accuracy score\n",
    "n_acc = near_accuracy(Y_test, Y_nn) #Get the +/-1 accuracy score\n",
    "acc_table.update( #Add values to the comparison table\n",
    "    dict(\n",
    "        NN = [acc, n_acc]\n",
    "    )\n",
    ")"
   ]
  },
  {
   "cell_type": "code",
   "execution_count": 32,
   "id": "8f415f16-b24c-4879-9275-382d1c1d8a79",
   "metadata": {},
   "outputs": [
    {
     "data": {
      "text/html": [
       "<div>\n",
       "<style scoped>\n",
       "    .dataframe tbody tr th:only-of-type {\n",
       "        vertical-align: middle;\n",
       "    }\n",
       "\n",
       "    .dataframe tbody tr th {\n",
       "        vertical-align: top;\n",
       "    }\n",
       "\n",
       "    .dataframe thead th {\n",
       "        text-align: right;\n",
       "    }\n",
       "</style>\n",
       "<table border=\"1\" class=\"dataframe\">\n",
       "  <thead>\n",
       "    <tr style=\"text-align: right;\">\n",
       "      <th></th>\n",
       "      <th>3</th>\n",
       "      <th>4</th>\n",
       "      <th>5</th>\n",
       "      <th>6</th>\n",
       "      <th>7</th>\n",
       "      <th>8</th>\n",
       "    </tr>\n",
       "  </thead>\n",
       "  <tbody>\n",
       "    <tr>\n",
       "      <th>3</th>\n",
       "      <td>0</td>\n",
       "      <td>0</td>\n",
       "      <td>2</td>\n",
       "      <td>0</td>\n",
       "      <td>0</td>\n",
       "      <td>0</td>\n",
       "    </tr>\n",
       "    <tr>\n",
       "      <th>4</th>\n",
       "      <td>0</td>\n",
       "      <td>0</td>\n",
       "      <td>6</td>\n",
       "      <td>4</td>\n",
       "      <td>1</td>\n",
       "      <td>0</td>\n",
       "    </tr>\n",
       "    <tr>\n",
       "      <th>5</th>\n",
       "      <td>0</td>\n",
       "      <td>0</td>\n",
       "      <td>104</td>\n",
       "      <td>30</td>\n",
       "      <td>1</td>\n",
       "      <td>0</td>\n",
       "    </tr>\n",
       "    <tr>\n",
       "      <th>6</th>\n",
       "      <td>0</td>\n",
       "      <td>0</td>\n",
       "      <td>37</td>\n",
       "      <td>90</td>\n",
       "      <td>15</td>\n",
       "      <td>0</td>\n",
       "    </tr>\n",
       "    <tr>\n",
       "      <th>7</th>\n",
       "      <td>0</td>\n",
       "      <td>0</td>\n",
       "      <td>2</td>\n",
       "      <td>16</td>\n",
       "      <td>9</td>\n",
       "      <td>0</td>\n",
       "    </tr>\n",
       "    <tr>\n",
       "      <th>8</th>\n",
       "      <td>0</td>\n",
       "      <td>0</td>\n",
       "      <td>0</td>\n",
       "      <td>1</td>\n",
       "      <td>2</td>\n",
       "      <td>0</td>\n",
       "    </tr>\n",
       "  </tbody>\n",
       "</table>\n",
       "</div>"
      ],
      "text/plain": [
       "   3  4    5   6   7  8\n",
       "3  0  0    2   0   0  0\n",
       "4  0  0    6   4   1  0\n",
       "5  0  0  104  30   1  0\n",
       "6  0  0   37  90  15  0\n",
       "7  0  0    2  16   9  0\n",
       "8  0  0    0   1   2  0"
      ]
     },
     "execution_count": 32,
     "metadata": {},
     "output_type": "execute_result"
    }
   ],
   "source": [
    "cm_nn = cm_table(Y_test, Y_nn, [i for i in range(3,9)])\n",
    "cm_nn"
   ]
  },
  {
   "cell_type": "markdown",
   "id": "c4bf8282-2713-46cf-a66b-8460474b83c0",
   "metadata": {},
   "source": [
    "## Conclusion"
   ]
  },
  {
   "cell_type": "markdown",
   "id": "6a50cca2-521c-416f-924e-dc93df77808f",
   "metadata": {},
   "source": [
    "To conclude, we can first have a look at the table of accuracy results from our different approaches."
   ]
  },
  {
   "cell_type": "code",
   "execution_count": 33,
   "id": "37e14d6e-b25e-4a08-a8a1-493cd1099c66",
   "metadata": {},
   "outputs": [
    {
     "data": {
      "text/html": [
       "<div>\n",
       "<style scoped>\n",
       "    .dataframe tbody tr th:only-of-type {\n",
       "        vertical-align: middle;\n",
       "    }\n",
       "\n",
       "    .dataframe tbody tr th {\n",
       "        vertical-align: top;\n",
       "    }\n",
       "\n",
       "    .dataframe thead th {\n",
       "        text-align: right;\n",
       "    }\n",
       "</style>\n",
       "<table border=\"1\" class=\"dataframe\">\n",
       "  <thead>\n",
       "    <tr style=\"text-align: right;\">\n",
       "      <th></th>\n",
       "      <th>Baseline</th>\n",
       "      <th>SGD</th>\n",
       "      <th>Tree</th>\n",
       "      <th>SVM</th>\n",
       "      <th>NN</th>\n",
       "    </tr>\n",
       "  </thead>\n",
       "  <tbody>\n",
       "    <tr>\n",
       "      <th>Accuracy</th>\n",
       "      <td>0.36875</td>\n",
       "      <td>0.628125</td>\n",
       "      <td>0.621875</td>\n",
       "      <td>0.653125</td>\n",
       "      <td>0.634375</td>\n",
       "    </tr>\n",
       "    <tr>\n",
       "      <th>±1 accuracy</th>\n",
       "      <td>0.86875</td>\n",
       "      <td>0.971875</td>\n",
       "      <td>0.946875</td>\n",
       "      <td>0.959375</td>\n",
       "      <td>0.965625</td>\n",
       "    </tr>\n",
       "  </tbody>\n",
       "</table>\n",
       "</div>"
      ],
      "text/plain": [
       "             Baseline       SGD      Tree       SVM        NN\n",
       "Accuracy      0.36875  0.628125  0.621875  0.653125  0.634375\n",
       "±1 accuracy   0.86875  0.971875  0.946875  0.959375  0.965625"
      ]
     },
     "execution_count": 33,
     "metadata": {},
     "output_type": "execute_result"
    }
   ],
   "source": [
    "pd.DataFrame(\n",
    "    acc_table,\n",
    "    index = [\"Accuracy\", \"±1 accuracy\"]\n",
    ")"
   ]
  },
  {
   "cell_type": "markdown",
   "id": "82907660-b5f7-4483-9b17-a3de73149fe5",
   "metadata": {},
   "source": [
    "From this table, we can see that the baseline approach scored relatively high on the ± 1 accuracy scale. This can be explained by the heavily inbalanced nature of the observed ratings, with over 82% of all ratings found between 5 and 7, i.e. within 1 rating grade from 6. The overall accuracy of this approach is however low, as would be expected.\n",
    "We can also see that the SGD approach seems to score the highest on our ± 1 accuracy scale. Nevertheless, this approach does not have the best overall accuracy, which resulted from the support vector machine approach. \n",
    "To further compare the two models, we can have a look a the difference in results through the difference between both confusion matrices."
   ]
  },
  {
   "cell_type": "code",
   "execution_count": 34,
   "id": "dc52083b-fde5-4567-b86c-7688af4436af",
   "metadata": {},
   "outputs": [
    {
     "data": {
      "image/png": "[encoded data removed]",
      "text/plain": [
       "<Figure size 640x480 with 1 Axes>"
      ]
     },
     "metadata": {},
     "output_type": "display_data"
    }
   ],
   "source": [
    "#Comparing both confusion matrices\n",
    "cm_diff = cm_svm - cm_sgd #Difference between SVM and SGM models confusion matrices.\n",
    "\n",
    "sns.heatmap( #Initialise heatmap\n",
    "    cm_diff, #Data = difference between matrices\n",
    "    center = 0, #Center on 0\n",
    "    cmap = 'bwr', #High contrast color map\n",
    "    annot = True, #Show differences values\n",
    "    robust = True, #Color mapping based on quantiles\n",
    "    linewidths = 0.1, #Show separator lines\n",
    "    linecolor = 'gray', #Lines in gray\n",
    "    cbar = False, #Do not show the color bar\n",
    "    fmt = '+d' #Decimal format\n",
    ")\n",
    "\n",
    "plt.ylabel('Actuals')\n",
    "plt.xlabel('Predictions')\n",
    "plt.title(\"Differences between the SVM model confusion table and the SGD model one\")\n",
    "\n",
    "plt.show()"
   ]
  },
  {
   "cell_type": "markdown",
   "id": "faa8b86c-f072-486f-bf12-cf704153fb93",
   "metadata": {},
   "source": [
    "From this comparison, we can see that the SVM model performs better on ratings 7 and above, as well as 5 and below, but slightly worse on wines rated 6, which explains the lower ± 1 accuracy. Because of the inbalance in our dataset, the SGD model is still able to outperform the SVM one on the ± 1 accuracy scale, while underperforming on the high quality ratings (7-8). Both models missed all the 3 and 4 quality ratings in the test set.\n",
    "Based on these observations, we would nevertheless prefer using the SVM model for predictions to the other ones, as it has a high end accuracy (65%) while also showing an above 95% result on the ± 1 accuracy metric."
   ]
  }
 ],
 "metadata": {
  "kernelspec": {
   "display_name": "Python 3",
   "language": "python",
   "name": "python3"
  },
  "language_info": {
   "codemirror_mode": {
    "name": "ipython",
    "version": 3
   },
   "file_extension": ".py",
   "mimetype": "text/x-python",
   "name": "python",
   "nbconvert_exporter": "python",
   "pygments_lexer": "ipython3",
   "version": "3.8.11"
  }
 },
 "nbformat": 4,
 "nbformat_minor": 5
}
